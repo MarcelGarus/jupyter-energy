{
 "cells": [
  {
   "cell_type": "markdown",
   "metadata": {},
   "source": [
    "# A BLAS-LAPACK benchmark\n",
    "\n",
    "Taken from [SciPy](https://github.com/scipy/scipy/blob/main/benchmarks/benchmarks/blas_lapack.py)."
   ]
  },
  {
   "cell_type": "markdown",
   "metadata": {},
   "source": [
    "First, do some initialization:"
   ]
  },
  {
   "cell_type": "code",
   "execution_count": 2,
   "metadata": {},
   "outputs": [],
   "source": [
    "import numpy as np\n",
    "import random\n",
    "\n",
    "np.random.seed(1234)\n",
    "random.seed(1234)"
   ]
  },
  {
   "cell_type": "markdown",
   "metadata": {},
   "source": [
    "Then, define the relevant parts of the the common utility file:"
   ]
  },
  {
   "cell_type": "code",
   "execution_count": 3,
   "metadata": {},
   "outputs": [],
   "source": [
    "\"\"\"\n",
    "Airspeed Velocity benchmark utilities\n",
    "\"\"\"\n",
    "import os\n",
    "\n",
    "\n",
    "class Benchmark:\n",
    "    \"\"\"\n",
    "    Base class with sensible options\n",
    "    \"\"\"\n",
    "    pass\n",
    "\n",
    "\n",
    "class safe_import:\n",
    "\n",
    "    def __enter__(self):\n",
    "        self.error = False\n",
    "        return self\n",
    "\n",
    "    def __exit__(self, type_, value, traceback):\n",
    "        if type_ is not None:\n",
    "            self.error = True\n",
    "            suppress = not (\n",
    "                os.getenv('SCIPY_ALLOW_BENCH_IMPORT_ERRORS', '1').lower() in\n",
    "                ('0', 'false') or not issubclass(type_, ImportError))\n",
    "            return suppress"
   ]
  },
  {
   "cell_type": "markdown",
   "metadata": {},
   "source": [
    "And here is the definition of the actual benchmark:"
   ]
  },
  {
   "cell_type": "code",
   "execution_count": 4,
   "metadata": {},
   "outputs": [],
   "source": [
    "import numpy as np\n",
    "\n",
    "with safe_import():\n",
    "    import scipy.linalg.blas as bla\n",
    "\n",
    "\n",
    "class GetBlasLapackFuncs(Benchmark):\n",
    "    \"\"\"\n",
    "    Test the speed of grabbing the correct BLAS/LAPACK routine flavor.\n",
    "    In particular, upon receiving strange dtype arrays the results shouldn't\n",
    "    diverge too much. Hence the results here should be comparable\n",
    "    \"\"\"\n",
    "\n",
    "    param_names = ['dtype1', 'dtype2',\n",
    "                   'dtype1_ord', 'dtype2_ord',\n",
    "                   'size']\n",
    "    params = [\n",
    "        ['b', 'G', 'd'],\n",
    "        ['d', 'F', '?'],\n",
    "        ['C', 'F'],\n",
    "        ['C', 'F'],\n",
    "        [10, 100, 1000]\n",
    "    ]\n",
    "\n",
    "    def setup(self, dtype1, dtype2, dtype1_ord, dtype2_ord, size):\n",
    "        self.arr1 = np.empty(size, dtype=dtype1, order=dtype1_ord)\n",
    "        self.arr2 = np.empty(size, dtype=dtype2, order=dtype2_ord)\n",
    "\n",
    "    def time_find_best_blas_type(self, dtype1, dtype2, dtype1_ord, dtype2_ord, size):\n",
    "        prefix, dtype, prefer_fortran = bla.find_best_blas_type((self.arr1, self.arr2))"
   ]
  },
  {
   "cell_type": "markdown",
   "metadata": {},
   "source": [
    "Now, let's run it:"
   ]
  },
  {
   "cell_type": "code",
   "execution_count": 12,
   "metadata": {},
   "outputs": [],
   "source": [
    "benchmark = GetBlasLapackFuncs()\n",
    "benchmark.setup(np.int32, np.int32, 'C', 'C', 8)\n",
    "\n",
    "for i in range(100000000):\n",
    "    benchmark.time_find_best_blas_type(np.int32, np.int32, 'C', 'C', 5)"
   ]
  }
 ],
 "metadata": {
  "interpreter": {
   "hash": "916dbcbb3f70747c44a77c7bcd40155683ae19c65e1c03b4aa3499c5328201f1"
  },
  "kernelspec": {
   "display_name": "Python 3.8.10 64-bit",
   "language": "python",
   "name": "python3"
  },
  "language_info": {
   "codemirror_mode": {
    "name": "ipython",
    "version": 3
   },
   "file_extension": ".py",
   "mimetype": "text/x-python",
   "name": "python",
   "nbconvert_exporter": "python",
   "pygments_lexer": "ipython3",
   "version": "3.8.10"
  },
  "orig_nbformat": 4
 },
 "nbformat": 4,
 "nbformat_minor": 2
}
