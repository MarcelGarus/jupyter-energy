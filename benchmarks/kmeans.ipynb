{
 "cells": [
  {
   "cell_type": "markdown",
   "metadata": {},
   "source": [
    "# A KMEANS benchmark\n",
    "\n",
    "Taken from [SciPy](https://github.com/scipy/scipy/blob/main/benchmarks/benchmarks/cluster.py)."
   ]
  },
  {
   "cell_type": "markdown",
   "metadata": {},
   "source": [
    "First, do some initialization:"
   ]
  },
  {
   "cell_type": "code",
   "execution_count": 1,
   "metadata": {},
   "outputs": [],
   "source": [
    "import numpy as np\n",
    "import random\n",
    "\n",
    "np.random.seed(1234)\n",
    "random.seed(1234)"
   ]
  },
  {
   "cell_type": "markdown",
   "metadata": {},
   "source": [
    "Then, define the relevant parts of the the common utility file:"
   ]
  },
  {
   "cell_type": "code",
   "execution_count": 2,
   "metadata": {},
   "outputs": [],
   "source": [
    "\"\"\"\n",
    "Airspeed Velocity benchmark utilities\n",
    "\"\"\"\n",
    "import os\n",
    "\n",
    "\n",
    "class Benchmark:\n",
    "    \"\"\"\n",
    "    Base class with sensible options\n",
    "    \"\"\"\n",
    "    pass\n",
    "\n",
    "\n",
    "class safe_import:\n",
    "\n",
    "    def __enter__(self):\n",
    "        self.error = False\n",
    "        return self\n",
    "\n",
    "    def __exit__(self, type_, value, traceback):\n",
    "        if type_ is not None:\n",
    "            self.error = True\n",
    "            suppress = not (\n",
    "                os.getenv('SCIPY_ALLOW_BENCH_IMPORT_ERRORS', '1').lower() in\n",
    "                ('0', 'false') or not issubclass(type_, ImportError))\n",
    "            return suppress"
   ]
  },
  {
   "cell_type": "markdown",
   "metadata": {},
   "source": [
    "And here is the definition of the actual benchmark:"
   ]
  },
  {
   "cell_type": "code",
   "execution_count": 3,
   "metadata": {},
   "outputs": [],
   "source": [
    "import numpy as np\n",
    "from numpy.testing import suppress_warnings\n",
    "\n",
    "with safe_import():\n",
    "    from scipy.cluster.hierarchy import linkage\n",
    "    from scipy.cluster.vq import kmeans, kmeans2, vq\n",
    "\n",
    "\n",
    "class HierarchyLinkage(Benchmark):\n",
    "    params = ['single', 'complete', 'average', 'weighted', 'centroid',\n",
    "              'median', 'ward']\n",
    "    param_names = ['method']\n",
    "\n",
    "    def __init__(self):\n",
    "        rnd = np.random.RandomState(0)\n",
    "        self.X = rnd.randn(2000, 2)\n",
    "\n",
    "    def time_linkage(self, method):\n",
    "        linkage(self.X, method=method)\n",
    "\n",
    "\n",
    "class KMeans(Benchmark):\n",
    "    params = [2, 10, 50]\n",
    "    param_names = ['k']\n",
    "\n",
    "    def __init__(self):\n",
    "        rnd = np.random.RandomState(0)\n",
    "        self.obs = rnd.rand(1000, 5)\n",
    "\n",
    "    def time_kmeans(self, k):\n",
    "        kmeans(self.obs, k, iter=10)\n",
    "\n",
    "\n",
    "class KMeans2(Benchmark):\n",
    "    params = [[2, 10, 50], ['random', 'points', '++']]\n",
    "    param_names = ['k', 'init']\n",
    "\n",
    "    def __init__(self):\n",
    "        rnd = np.random.RandomState(0)\n",
    "        self.obs = rnd.rand(1000, 5)\n",
    "\n",
    "    def time_kmeans2(self, k, init):\n",
    "        with suppress_warnings() as sup:\n",
    "            sup.filter(UserWarning,\n",
    "                       \"One of the clusters is empty. Re-run kmeans with a \"\n",
    "                       \"different initialization\")\n",
    "            kmeans2(self.obs, k, minit=init, iter=10)\n",
    "\n",
    "\n",
    "class VQ(Benchmark):\n",
    "    params = [[2, 10, 50], ['float32', 'float64', 'float128']]\n",
    "    param_names = ['k', 'dtype']\n",
    "\n",
    "    def __init__(self):\n",
    "        rnd = np.random.RandomState(0)\n",
    "        self.data = rnd.rand(5000, 5)\n",
    "        self.cbook_source = rnd.rand(50, 5)\n",
    "\n",
    "    def setup(self, k, dtype):\n",
    "        self.obs = self.data.astype(dtype)\n",
    "        self.cbook = self.cbook_source[:k].astype(dtype)\n",
    "\n",
    "    def time_vq(self, k, dtype):\n",
    "        vq(self.obs, self.cbook)"
   ]
  },
  {
   "cell_type": "markdown",
   "metadata": {},
   "source": [
    "Now, let's run it:"
   ]
  },
  {
   "cell_type": "code",
   "execution_count": 7,
   "metadata": {},
   "outputs": [],
   "source": [
    "benchmark = KMeans()\n",
    "\n",
    "for i in range(1000):\n",
    "    benchmark.time_kmeans(500)"
   ]
  }
 ],
 "metadata": {
  "interpreter": {
   "hash": "916dbcbb3f70747c44a77c7bcd40155683ae19c65e1c03b4aa3499c5328201f1"
  },
  "kernelspec": {
   "display_name": "Python 3.8.10 64-bit",
   "language": "python",
   "name": "python3"
  },
  "language_info": {
   "codemirror_mode": {
    "name": "ipython",
    "version": 3
   },
   "file_extension": ".py",
   "mimetype": "text/x-python",
   "name": "python",
   "nbconvert_exporter": "python",
   "pygments_lexer": "ipython3",
   "version": "3.8.10"
  },
  "orig_nbformat": 4
 },
 "nbformat": 4,
 "nbformat_minor": 2
}
